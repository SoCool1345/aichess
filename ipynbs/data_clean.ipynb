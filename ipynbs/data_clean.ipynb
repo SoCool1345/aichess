{
 "cells": [
  {
   "cell_type": "code",
   "execution_count": 1,
   "metadata": {
    "collapsed": true
   },
   "outputs": [],
   "source": [
    "import json\n",
    "import os\n",
    "import cchess\n",
    "from game import Board"
   ]
  },
  {
   "cell_type": "code",
   "execution_count": 2,
   "outputs": [],
   "source": [
    "#解析对局\n",
    "\n"
   ],
   "metadata": {
    "collapsed": false,
    "pycharm": {
     "name": "#%%\n"
    }
   }
  },
  {
   "cell_type": "code",
   "execution_count": 3,
   "outputs": [
    {
     "name": "stdout",
     "output_type": "stream",
     "text": [
      "{'move_list': '2625122277472042394830417967708289798070173722251927102227357262797082700919636435436266698700101910221046452324674666064324252624160304370770624625040507050609483910022533627416247466470702213314264605094224076760420906664739484728493921331422334567682809060846363949456687693686223466452947860634460636080383840373415246675041737584857555403048393616594809175556160648374537495906093948372948391738594929173948381948391927394817294839293749483749', 'title': '浙江 于幼华 负 河北 李来群', 'name_black': '河北 李来群', 'name_red': '浙江 于幼华', 'desc': '1990年全国象棋个人赛', 'result': '黑胜', 'init': '', 'url': 'http://game.onegreen.net/chess/HTML/29819.html'}\n"
     ]
    }
   ],
   "source": [
    "\n",
    "json_file = '../data/item.json'\n",
    "with open(json_file,'r') as f:\n",
    "    obj = json.load(f)\n",
    "print(obj[0])"
   ],
   "metadata": {
    "collapsed": false,
    "pycharm": {
     "name": "#%%\n"
    }
   }
  },
  {
   "cell_type": "code",
   "execution_count": 4,
   "outputs": [
    {
     "name": "stdout",
     "output_type": "stream",
     "text": [
      "{'move_list': '4634663634423631585040414443313843334131503022304250', 'title': '<象棋怪招速胜法>弃车攻杀036', 'name_black': '', 'name_red': '', 'desc': '象棋怪招速胜法', 'result': '红胜', 'init': '3146293949596999584748264486999914222030405060996606420323436483', 'url': 'http://game.onegreen.net/chess/HTML/18987.html'}\n"
     ]
    }
   ],
   "source": [
    "for game in obj:\n",
    "    if game['init'] != \"\":\n",
    "       print(game)\n",
    "       break\n",
    "\n"
   ],
   "metadata": {
    "collapsed": false,
    "pycharm": {
     "name": "#%%\n"
    }
   }
  },
  {
   "cell_type": "code",
   "execution_count": 5,
   "outputs": [
    {
     "name": "stdout",
     "output_type": "stream",
     "text": [
      "兵七进一\n",
      "9 ┌───┬───象──士──将──士──象──┬───┐ \n",
      "  │   │   │   │ ＼│ ／│   │   │   │ \n",
      "8 ├───┼───┼───车──┼───┼───┼───┼───┤ \n",
      "  │   │　 │   │ ／│ ＼│   │   │   │ \n",
      "7 ├───┼───碼──┼───砲──┼───┼───┼───┤ \n",
      "  │   │　 │　 │　 │   │   │   │   │ \n",
      "6 卒──┼───卒──┼───卒──┼───┼───┼───卒\n",
      "  │　 │　 │   │   │   │   │   │   │ \n",
      "5 ├───砗──┴───┴───兵──┴───卒──┴───┤ \n",
      "  │　                             │ \n",
      "4 ├───┬───┬───┬───┬───┬───┬───┬───┤ \n",
      "  │　 │　 │   │   │   │　 │　 │　 │ \n",
      "3 砲──┼───兵──┼───马──┼───砗──┼───兵\n",
      "  │   │　 │　 │　 │   │   │   │   │ \n",
      "2 ├───┼───┼───┼───炮──┼───┼───┼───┤ \n",
      "  │   │   │   │ ＼│ ／│　 │　 │　 │ \n",
      "1 ├───┼───┼───┼───炮──车──┼───┼───┤ \n",
      "  │   │　 │   │ ／│ ＼│　 │   │   │ \n",
      "0 └───┴───相──仕──帅──仕──相──┴───┘ \n",
      "   \n",
      "  a   b   c   d   e   f   g   h   i \n",
      "  0   1   2   3   4   5   6   7   8 \n"
     ]
    }
   ],
   "source": [
    "board = cchess.BaseChessBoard(cchess.FULL_INIT_FEN)\n",
    "m = board.move((2,3),(2,4))\n",
    "game = cchess.read_from_txt(\"\",\"3146293949596999584748264486999914222030405060996606420323436483\")\n",
    "print(m.to_chinese())\n",
    "game.init_board.print_board()"
   ],
   "metadata": {
    "collapsed": false,
    "pycharm": {
     "name": "#%%\n"
    }
   }
  },
  {
   "cell_type": "code",
   "execution_count": 6,
   "outputs": [
    {
     "name": "stdout",
     "output_type": "stream",
     "text": [
      "start_y, start_x, end_y, end_x 4 3 5 5\n",
      "一一 一一\n"
     ]
    },
    {
     "data": {
      "text/plain": "[['一一', '一一', '红相', '红士', '红将', '红士', '红相', '一一', '一一'],\n ['一一', '一一', '一一', '红车', '红炮', '一一', '一一', '一一', '一一'],\n ['一一', '一一', '一一', '一一', '红炮', '一一', '一一', '一一', '一一'],\n ['红兵', '一一', '黑车', '一一', '红马', '一一', '红兵', '一一', '黑炮'],\n ['一一', '一一', '一一', '一一', '一一', '一一', '一一', '一一', '一一'],\n ['一一', '一一', '黑卒', '一一', '红兵', '一一', '一一', '黑车', '一一'],\n ['黑卒', '一一', '一一', '一一', '黑卒', '一一', '黑卒', '一一', '黑卒'],\n ['一一', '一一', '一一', '一一', '黑炮', '一一', '黑马', '一一', '一一'],\n ['一一', '一一', '一一', '一一', '一一', '红车', '一一', '一一', '一一'],\n ['一一', '一一', '黑相', '黑士', '黑将', '黑士', '黑相', '一一', '一一']]"
     },
     "execution_count": 6,
     "metadata": {},
     "output_type": "execute_result"
    }
   ],
   "source": [
    "board = Board()\n",
    "board.read_pos_txt(\"3146293949596999584748264486999914222030405060996606420323436483\",1)\n",
    "\n",
    "board.do_move_txt(\"4634\")\n",
    "board.state_deque[1]"
   ],
   "metadata": {
    "collapsed": false,
    "pycharm": {
     "name": "#%%\n"
    }
   }
  },
  {
   "cell_type": "code",
   "execution_count": 7,
   "outputs": [
    {
     "data": {
      "text/plain": "[['一一', '一一', '红相', '红士', '红将', '红士', '红相', '一一', '一一'],\n ['一一', '一一', '一一', '红车', '红炮', '一一', '一一', '一一', '一一'],\n ['一一', '一一', '一一', '一一', '红炮', '一一', '一一', '一一', '一一'],\n ['红兵', '一一', '黑车', '一一', '红马', '一一', '红兵', '一一', '黑炮'],\n ['一一', '一一', '一一', '一一', '一一', '一一', '一一', '一一', '一一'],\n ['一一', '一一', '黑卒', '一一', '红兵', '一一', '一一', '黑车', '一一'],\n ['黑卒', '一一', '一一', '一一', '黑卒', '一一', '黑卒', '一一', '黑卒'],\n ['一一', '一一', '一一', '一一', '黑炮', '一一', '黑马', '一一', '一一'],\n ['一一', '一一', '一一', '一一', '一一', '红车', '一一', '一一', '一一'],\n ['一一', '一一', '黑相', '黑士', '黑将', '黑士', '黑相', '一一', '一一']]"
     },
     "execution_count": 7,
     "metadata": {},
     "output_type": "execute_result"
    }
   ],
   "source": [
    "board.state_deque[0]\n"
   ],
   "metadata": {
    "collapsed": false,
    "pycharm": {
     "name": "#%%\n"
    }
   }
  }
 ],
 "metadata": {
  "kernelspec": {
   "display_name": "Python 3",
   "language": "python",
   "name": "python3"
  },
  "language_info": {
   "codemirror_mode": {
    "name": "ipython",
    "version": 2
   },
   "file_extension": ".py",
   "mimetype": "text/x-python",
   "name": "python",
   "nbconvert_exporter": "python",
   "pygments_lexer": "ipython2",
   "version": "2.7.6"
  }
 },
 "nbformat": 4,
 "nbformat_minor": 0
}